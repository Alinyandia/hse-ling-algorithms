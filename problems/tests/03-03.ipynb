{
 "cells": [
  {
   "cell_type": "markdown",
   "metadata": {
    "deletable": true,
    "editable": true
   },
   "source": [
    "# Problem 03-03"
   ]
  },
  {
   "cell_type": "markdown",
   "metadata": {
    "deletable": true,
    "editable": true
   },
   "source": [
    "## Solution"
   ]
  },
  {
   "cell_type": "code",
   "execution_count": 14,
   "metadata": {
    "collapsed": false,
    "deletable": true,
    "editable": true
   },
   "outputs": [],
   "source": [
    "def get_idx(A):\n",
    "    \n",
    "    i, j = 0, 0\n",
    "    \n",
    "    while max(i, j) < len(A):\n",
    "        if i == j or A[i][j] == 1:\n",
    "            i += 1\n",
    "        else:\n",
    "            j += 1\n",
    "        \n",
    "\n",
    "    return j"
   ]
  },
  {
   "cell_type": "markdown",
   "metadata": {
    "deletable": true,
    "editable": true
   },
   "source": [
    "## Strategies"
   ]
  },
  {
   "cell_type": "code",
   "execution_count": 1,
   "metadata": {
    "collapsed": false,
    "deletable": true,
    "editable": true
   },
   "outputs": [],
   "source": [
    "from hypothesis import given, note\n",
    "from hypothesis.strategies import integers, lists, randoms, composite, choices\n",
    "\n",
    "\n",
    "@composite\n",
    "def matrix(draw):\n",
    "    n = draw(integers(min_value=2, max_value=8))\n",
    "    r = draw(randoms())\n",
    "    \n",
    "    size = {'min_size': n, 'max_size': n}\n",
    "    rows = lists(integers(min_value=0, max_value=1), **size)\n",
    "    m = draw(lists(rows, **size))\n",
    "    \n",
    "    idx = r.randint(1, n-1)\n",
    "    \n",
    "    m[idx][:] = (0 for _ in range(n))\n",
    "    \n",
    "    for i in range(n):\n",
    "        m[i][idx] = 1\n",
    "    \n",
    "    m[idx][idx] = middle = r.choice((0, 1))\n",
    "    \n",
    "    return (m, idx)"
   ]
  },
  {
   "cell_type": "markdown",
   "metadata": {
    "deletable": true,
    "editable": true
   },
   "source": [
    "# Test"
   ]
  },
  {
   "cell_type": "code",
   "execution_count": 17,
   "metadata": {
    "collapsed": false,
    "deletable": true,
    "editable": true
   },
   "outputs": [
    {
     "name": "stdout",
     "output_type": "stream",
     "text": [
      "ok\n"
     ]
    }
   ],
   "source": [
    "@given(data=matrix())\n",
    "def test_idx(data):\n",
    "    A, idx = data\n",
    "    result = get_idx(A)\n",
    "    note('Result: %d' % result)\n",
    "    assert result == idx\n",
    "    \n",
    "test_idx()\n",
    "\n",
    "print('ok')"
   ]
  }
 ],
 "metadata": {
  "kernelspec": {
   "display_name": "Python 3",
   "language": "python",
   "name": "python3"
  },
  "language_info": {
   "codemirror_mode": {
    "name": "ipython",
    "version": 3
   },
   "file_extension": ".py",
   "mimetype": "text/x-python",
   "name": "python",
   "nbconvert_exporter": "python",
   "pygments_lexer": "ipython3",
   "version": "3.5.2"
  }
 },
 "nbformat": 4,
 "nbformat_minor": 2
}
