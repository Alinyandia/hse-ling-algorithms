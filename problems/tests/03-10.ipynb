{
 "cells": [
  {
   "cell_type": "markdown",
   "metadata": {
    "deletable": true,
    "editable": true
   },
   "source": [
    "# Problem 03-10"
   ]
  },
  {
   "cell_type": "markdown",
   "metadata": {
    "deletable": true,
    "editable": true
   },
   "source": [
    "## Solution"
   ]
  },
  {
   "cell_type": "code",
   "execution_count": 9,
   "metadata": {
    "collapsed": false,
    "deletable": true,
    "editable": true
   },
   "outputs": [],
   "source": [
    "def key(x):\n",
    "    full_stop = '.'\n",
    "    alpha_small = 'abcdefghijklmnopqrstuvwxyz'\n",
    "    alpha_big = alpha_small.upper()\n",
    "    num = '0123456789'\n",
    "    punct = '!\"#$%&()*+,-/:;<=>?@[\\]^_{|}~'\n",
    "    letters_small = list(alpha_small)\n",
    "    letters_big = list(alpha_big)\n",
    "    punct = list(punct)\n",
    "\n",
    "    indices_small = list(range(0, len(alpha_small)))\n",
    "    indices_big = list(range(0, len(alpha_big)))\n",
    "    indices_punct = list(range(0, len(punct)))\n",
    "\n",
    "    d_small = dict(zip(letters_small, indices_small))\n",
    "    d_big = dict(zip(letters_big, indices_big))\n",
    "    d_punct = dict(zip(punct, indices_punct))\n",
    "\n",
    "\n",
    "    repres = []  # тут репрезентация строки в виде кортежа вида ( int <класс объекта> , int <ранг объекта в классе> )\n",
    "    found_num = ''  # чтоб запоминать число\n",
    "    for let in x:\n",
    "        if let == full_stop:\n",
    "            if found_num != '':\n",
    "                repres.append((3, int(found_num)))\n",
    "                found_num = ''  # если число в начале или в середине, то мы идем пока не встретим букву и тогда аппендим число и удаляем его из found_num\n",
    "            repres.append((0, 0))\n",
    "        if let in alpha_small:\n",
    "            if found_num != '':\n",
    "                repres.append((1, int(found_num)))\n",
    "                found_num = ''  # если число в начале или в середине, то мы идем пока не встретим букву и тогда аппендим число и удаляем его из found_num\n",
    "            repres.append((3, d_small[let]))\n",
    "        elif let in alpha_big:\n",
    "            if found_num != '':\n",
    "                repres.append((1, int(found_num)))\n",
    "                found_num = ''  # если число в начале или в середине, то мы идем пока не встретим букву и тогда аппендим число и удаляем его из found_num\n",
    "            repres.append((2, d_big[let]))\n",
    "        elif let in punct:\n",
    "            if found_num != '':\n",
    "                repres.append((1, int(found_num)))\n",
    "                found_num = ''  # если число в начале или в середине, то мы идем пока не встретим букву и тогда аппендим число и удаляем его из found_num\n",
    "            repres.append((4, d_punct[let]))\n",
    "        elif let in num:\n",
    "            found_num += let\n",
    "    if found_num != '':  # если число в конце (потому что аппенд был только если мы встретили букву дальше)\n",
    "        repres.append((1, int(found_num)))\n",
    "    return repres"
   ]
  },
  {
   "cell_type": "markdown",
   "metadata": {
    "deletable": true,
    "editable": true
   },
   "source": [
    "## Strategies"
   ]
  },
  {
   "cell_type": "code",
   "execution_count": 5,
   "metadata": {
    "collapsed": false,
    "deletable": true,
    "editable": true
   },
   "outputs": [],
   "source": [
    "from hypothesis import given, note\n",
    "from hypothesis.strategies import integers, lists, text, composite, one_of\n",
    "\n",
    "alpha = 'abcxyzABCXYZ'\n",
    "digits = '0123456789'\n",
    "punct = '!\"#$%&\\'()*+,-./:;?@[\\\\]^_`{|}~'\n",
    "\n",
    "part = one_of(\n",
    "    text(alphabet=alpha, min_size=1, max_size=1),\n",
    "    text(alphabet=digits, min_size=1, max_size=4),\n",
    "    text(alphabet=punct, min_size=1, max_size=1)\n",
    ")\n",
    "\n",
    "@composite\n",
    "def strings(draw):\n",
    "    return draw(lists(lists(elements=part, min_size=3).map(lambda x: ''.join(x)),\n",
    "                      min_size=20, max_size=100))"
   ]
  },
  {
   "cell_type": "markdown",
   "metadata": {
    "deletable": true,
    "editable": true
   },
   "source": [
    "# Test"
   ]
  },
  {
   "cell_type": "code",
   "execution_count": 6,
   "metadata": {
    "collapsed": false,
    "deletable": true,
    "editable": true
   },
   "outputs": [
    {
     "name": "stdout",
     "output_type": "stream",
     "text": [
      "Falsifying example: test_bash_sort(data=['aaa',\n",
      " 'aaa',\n",
      " 'aaa',\n",
      " 'aaa',\n",
      " 'aaa',\n",
      " 'aaa',\n",
      " 'aaa',\n",
      " 'aaa',\n",
      " 'aaa',\n",
      " 'aaa',\n",
      " 'aaa',\n",
      " 'aaa',\n",
      " 'aaa',\n",
      " 'aaa',\n",
      " 'aaa',\n",
      " 'aaa',\n",
      " 'aaa',\n",
      " 'aaa',\n",
      " 'aaa',\n",
      " '1aa'])\n"
     ]
    },
    {
     "ename": "AssertionError",
     "evalue": "",
     "output_type": "error",
     "traceback": [
      "\u001b[0;31m---------------------------------------------------------------------------\u001b[0m",
      "\u001b[0;31mAssertionError\u001b[0m                            Traceback (most recent call last)",
      "\u001b[0;32m<ipython-input-6-3098d66b5374>\u001b[0m in \u001b[0;36m<module>\u001b[0;34m()\u001b[0m\n\u001b[1;32m     21\u001b[0m     \u001b[0;32massert\u001b[0m \u001b[0msorted\u001b[0m\u001b[0;34m(\u001b[0m\u001b[0mdata\u001b[0m\u001b[0;34m,\u001b[0m \u001b[0mkey\u001b[0m\u001b[0;34m=\u001b[0m\u001b[0mkey\u001b[0m\u001b[0;34m)\u001b[0m \u001b[0;34m==\u001b[0m \u001b[0mbash_sort\u001b[0m\u001b[0;34m(\u001b[0m\u001b[0mdata\u001b[0m\u001b[0;34m)\u001b[0m\u001b[0;34m\u001b[0m\u001b[0m\n\u001b[1;32m     22\u001b[0m \u001b[0;34m\u001b[0m\u001b[0m\n\u001b[0;32m---> 23\u001b[0;31m \u001b[0mtest_bash_sort\u001b[0m\u001b[0;34m(\u001b[0m\u001b[0;34m)\u001b[0m\u001b[0;34m\u001b[0m\u001b[0m\n\u001b[0m\u001b[1;32m     24\u001b[0m \u001b[0mprint\u001b[0m\u001b[0;34m(\u001b[0m\u001b[0;34m'ok'\u001b[0m\u001b[0;34m)\u001b[0m\u001b[0;34m\u001b[0m\u001b[0m\n",
      "\u001b[0;32m<ipython-input-6-3098d66b5374>\u001b[0m in \u001b[0;36mtest_bash_sort\u001b[0;34m()\u001b[0m\n\u001b[1;32m     18\u001b[0m \u001b[0;34m\u001b[0m\u001b[0m\n\u001b[1;32m     19\u001b[0m \u001b[0;34m@\u001b[0m\u001b[0mgiven\u001b[0m\u001b[0;34m(\u001b[0m\u001b[0mdata\u001b[0m\u001b[0;34m=\u001b[0m\u001b[0mstrings\u001b[0m\u001b[0;34m(\u001b[0m\u001b[0;34m)\u001b[0m\u001b[0;34m)\u001b[0m\u001b[0;34m\u001b[0m\u001b[0m\n\u001b[0;32m---> 20\u001b[0;31m \u001b[0;32mdef\u001b[0m \u001b[0mtest_bash_sort\u001b[0m\u001b[0;34m(\u001b[0m\u001b[0mdata\u001b[0m\u001b[0;34m)\u001b[0m\u001b[0;34m:\u001b[0m\u001b[0;34m\u001b[0m\u001b[0m\n\u001b[0m\u001b[1;32m     21\u001b[0m     \u001b[0;32massert\u001b[0m \u001b[0msorted\u001b[0m\u001b[0;34m(\u001b[0m\u001b[0mdata\u001b[0m\u001b[0;34m,\u001b[0m \u001b[0mkey\u001b[0m\u001b[0;34m=\u001b[0m\u001b[0mkey\u001b[0m\u001b[0;34m)\u001b[0m \u001b[0;34m==\u001b[0m \u001b[0mbash_sort\u001b[0m\u001b[0;34m(\u001b[0m\u001b[0mdata\u001b[0m\u001b[0;34m)\u001b[0m\u001b[0;34m\u001b[0m\u001b[0m\n\u001b[1;32m     22\u001b[0m \u001b[0;34m\u001b[0m\u001b[0m\n",
      "\u001b[0;32m/Users/mkuznets/.py3/lib/python3.6/site-packages/hypothesis/core.py\u001b[0m in \u001b[0;36mwrapped_test\u001b[0;34m(*arguments, **kwargs)\u001b[0m\n\u001b[1;32m    522\u001b[0m                         reify_and_execute(\n\u001b[1;32m    523\u001b[0m                             \u001b[0msearch_strategy\u001b[0m\u001b[0;34m,\u001b[0m \u001b[0mtest\u001b[0m\u001b[0;34m,\u001b[0m\u001b[0;34m\u001b[0m\u001b[0m\n\u001b[0;32m--> 524\u001b[0;31m                             \u001b[0mprint_example\u001b[0m\u001b[0;34m=\u001b[0m\u001b[0;32mTrue\u001b[0m\u001b[0;34m,\u001b[0m \u001b[0mis_final\u001b[0m\u001b[0;34m=\u001b[0m\u001b[0;32mTrue\u001b[0m\u001b[0;34m\u001b[0m\u001b[0m\n\u001b[0m\u001b[1;32m    525\u001b[0m                         ))\n\u001b[1;32m    526\u001b[0m             \u001b[0;32mexcept\u001b[0m \u001b[0;34m(\u001b[0m\u001b[0mUnsatisfiedAssumption\u001b[0m\u001b[0;34m,\u001b[0m \u001b[0mStopTest\u001b[0m\u001b[0;34m)\u001b[0m\u001b[0;34m:\u001b[0m\u001b[0;34m\u001b[0m\u001b[0m\n",
      "\u001b[0;32m/Users/mkuznets/.py3/lib/python3.6/site-packages/hypothesis/executors.py\u001b[0m in \u001b[0;36mdefault_new_style_executor\u001b[0;34m(data, function)\u001b[0m\n\u001b[1;32m     56\u001b[0m \u001b[0;34m\u001b[0m\u001b[0m\n\u001b[1;32m     57\u001b[0m \u001b[0;32mdef\u001b[0m \u001b[0mdefault_new_style_executor\u001b[0m\u001b[0;34m(\u001b[0m\u001b[0mdata\u001b[0m\u001b[0;34m,\u001b[0m \u001b[0mfunction\u001b[0m\u001b[0;34m)\u001b[0m\u001b[0;34m:\u001b[0m\u001b[0;34m\u001b[0m\u001b[0m\n\u001b[0;32m---> 58\u001b[0;31m     \u001b[0;32mreturn\u001b[0m \u001b[0mfunction\u001b[0m\u001b[0;34m(\u001b[0m\u001b[0mdata\u001b[0m\u001b[0;34m)\u001b[0m\u001b[0;34m\u001b[0m\u001b[0m\n\u001b[0m\u001b[1;32m     59\u001b[0m \u001b[0;34m\u001b[0m\u001b[0m\n\u001b[1;32m     60\u001b[0m \u001b[0;34m\u001b[0m\u001b[0m\n",
      "\u001b[0;32m/Users/mkuznets/.py3/lib/python3.6/site-packages/hypothesis/core.py\u001b[0m in \u001b[0;36mrun\u001b[0;34m(data)\u001b[0m\n\u001b[1;32m    109\u001b[0m                     lambda: 'Trying example: %s(%s)' % (\n\u001b[1;32m    110\u001b[0m                         test.__name__, arg_string(test, args, kwargs)))\n\u001b[0;32m--> 111\u001b[0;31m             \u001b[0;32mreturn\u001b[0m \u001b[0mtest\u001b[0m\u001b[0;34m(\u001b[0m\u001b[0;34m*\u001b[0m\u001b[0margs\u001b[0m\u001b[0;34m,\u001b[0m \u001b[0;34m**\u001b[0m\u001b[0mkwargs\u001b[0m\u001b[0;34m)\u001b[0m\u001b[0;34m\u001b[0m\u001b[0m\n\u001b[0m\u001b[1;32m    112\u001b[0m     \u001b[0;32mreturn\u001b[0m \u001b[0mrun\u001b[0m\u001b[0;34m\u001b[0m\u001b[0m\n\u001b[1;32m    113\u001b[0m \u001b[0;34m\u001b[0m\u001b[0m\n",
      "\u001b[0;32m<ipython-input-6-3098d66b5374>\u001b[0m in \u001b[0;36mtest_bash_sort\u001b[0;34m(data)\u001b[0m\n\u001b[1;32m     19\u001b[0m \u001b[0;34m@\u001b[0m\u001b[0mgiven\u001b[0m\u001b[0;34m(\u001b[0m\u001b[0mdata\u001b[0m\u001b[0;34m=\u001b[0m\u001b[0mstrings\u001b[0m\u001b[0;34m(\u001b[0m\u001b[0;34m)\u001b[0m\u001b[0;34m)\u001b[0m\u001b[0;34m\u001b[0m\u001b[0m\n\u001b[1;32m     20\u001b[0m \u001b[0;32mdef\u001b[0m \u001b[0mtest_bash_sort\u001b[0m\u001b[0;34m(\u001b[0m\u001b[0mdata\u001b[0m\u001b[0;34m)\u001b[0m\u001b[0;34m:\u001b[0m\u001b[0;34m\u001b[0m\u001b[0m\n\u001b[0;32m---> 21\u001b[0;31m     \u001b[0;32massert\u001b[0m \u001b[0msorted\u001b[0m\u001b[0;34m(\u001b[0m\u001b[0mdata\u001b[0m\u001b[0;34m,\u001b[0m \u001b[0mkey\u001b[0m\u001b[0;34m=\u001b[0m\u001b[0mkey\u001b[0m\u001b[0;34m)\u001b[0m \u001b[0;34m==\u001b[0m \u001b[0mbash_sort\u001b[0m\u001b[0;34m(\u001b[0m\u001b[0mdata\u001b[0m\u001b[0;34m)\u001b[0m\u001b[0;34m\u001b[0m\u001b[0m\n\u001b[0m\u001b[1;32m     22\u001b[0m \u001b[0;34m\u001b[0m\u001b[0m\n\u001b[1;32m     23\u001b[0m \u001b[0mtest_bash_sort\u001b[0m\u001b[0;34m(\u001b[0m\u001b[0;34m)\u001b[0m\u001b[0;34m\u001b[0m\u001b[0m\n",
      "\u001b[0;31mAssertionError\u001b[0m: "
     ]
    }
   ],
   "source": [
    "def bash_sort(array):\n",
    "    import subprocess\n",
    "    \n",
    "    data = (\"\\n\".join(map(str, array))).encode('utf-8')\n",
    "    \n",
    "    proc = subprocess.Popen(['/usr/bin/sort', '-n'],\n",
    "                            stdin=subprocess.PIPE, stdout=subprocess.PIPE)\n",
    "    try:\n",
    "        outs, errs = proc.communicate(data, timeout=15)\n",
    "    except subprocess.TimeoutExpired:\n",
    "        proc.kill()\n",
    "        raise\n",
    "\n",
    "    return outs.decode('utf-8').strip().split(\"\\n\")\n",
    "\n",
    "bash_sort([\"1000\", '1'])\n",
    "\n",
    "\n",
    "@given(data=strings())\n",
    "def test_bash_sort(data):\n",
    "    assert sorted(data, key=key) == bash_sort(data)\n",
    "\n",
    "test_bash_sort()\n",
    "print('ok')"
   ]
  },
  {
   "cell_type": "code",
   "execution_count": 8,
   "metadata": {
    "collapsed": false,
    "deletable": true,
    "editable": true
   },
   "outputs": [
    {
     "data": {
      "text/plain": [
       "['1aa',\n",
       " 'aaa',\n",
       " 'aaa',\n",
       " 'aaa',\n",
       " 'aaa',\n",
       " 'aaa',\n",
       " 'aaa',\n",
       " 'aaa',\n",
       " 'aaa',\n",
       " 'aaa',\n",
       " 'aaa',\n",
       " 'aaa',\n",
       " 'aaa',\n",
       " 'aaa',\n",
       " 'aaa',\n",
       " 'aaa',\n",
       " 'aaa',\n",
       " 'aaa',\n",
       " 'aaa',\n",
       " 'aaa']"
      ]
     },
     "execution_count": 8,
     "metadata": {},
     "output_type": "execute_result"
    }
   ],
   "source": [
    "d = ['aaa',\n",
    " 'aaa',\n",
    " 'aaa',\n",
    " 'aaa',\n",
    " 'aaa',\n",
    " 'aaa',\n",
    " 'aaa',\n",
    " 'aaa',\n",
    " 'aaa',\n",
    " 'aaa',\n",
    " 'aaa',\n",
    " 'aaa',\n",
    " 'aaa',\n",
    " 'aaa',\n",
    " 'aaa',\n",
    " 'aaa',\n",
    " 'aaa',\n",
    " 'aaa',\n",
    " 'aaa',\n",
    " '1aa']\n",
    "\n",
    "sorted(d, key=key)\n",
    "bash_sort(['a', 'b'])"
   ]
  }
 ],
 "metadata": {
  "kernelspec": {
   "display_name": "Python 3",
   "language": "python",
   "name": "python3"
  },
  "language_info": {
   "codemirror_mode": {
    "name": "ipython",
    "version": 3
   },
   "file_extension": ".py",
   "mimetype": "text/x-python",
   "name": "python",
   "nbconvert_exporter": "python",
   "pygments_lexer": "ipython3",
   "version": "3.5.2"
  }
 },
 "nbformat": 4,
 "nbformat_minor": 2
}
