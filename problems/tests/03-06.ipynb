{
 "cells": [
  {
   "cell_type": "markdown",
   "metadata": {
    "deletable": true,
    "editable": true
   },
   "source": [
    "# Problem 03-06"
   ]
  },
  {
   "cell_type": "markdown",
   "metadata": {
    "deletable": true,
    "editable": true
   },
   "source": [
    "## Solution"
   ]
  },
  {
   "cell_type": "code",
   "execution_count": 14,
   "metadata": {
    "collapsed": false,
    "deletable": true,
    "editable": true
   },
   "outputs": [],
   "source": [
    "def partition(A, lo, hi):\n",
    "    pivot = A[hi]\n",
    "    i = lo\n",
    "\n",
    "    for j in range(lo, hi):\n",
    "        if A[j] <= pivot:\n",
    "            A[i], A[j] = A[j], A[i]\n",
    "            i += 1\n",
    "\n",
    "    A[i], A[hi] = A[hi], A[i]\n",
    "    return i\n",
    "\n",
    "\n",
    "def qs(A, m, lo, hi):\n",
    "    if lo < hi:\n",
    "        p = partition(A, lo, hi)\n",
    "        if m < p:\n",
    "            qs(A, m, lo, p-1)\n",
    "        elif m > p:\n",
    "            qs(A, m, p+1, hi)\n",
    "        else:\n",
    "            return A\n",
    "    return A\n",
    "\n",
    "\n",
    "def nsmallest(m, A):\n",
    "    return qs(A, m, 0, len(A)-1)[:m]"
   ]
  },
  {
   "cell_type": "code",
   "execution_count": 15,
   "metadata": {
    "collapsed": false
   },
   "outputs": [
    {
     "name": "stdout",
     "output_type": "stream",
     "text": [
      "ok\n"
     ]
    }
   ],
   "source": [
    "from random import randint\n",
    "import heapq\n",
    "\n",
    "\n",
    "def gen_testcase():\n",
    "    return [randint(0, 1000) for _ in range(randint(2, 50))]\n",
    "\n",
    "def reference(a, k):\n",
    "    return heapq.nsmallest(a, k)\n",
    "  \n",
    "for _ in range(1000):\n",
    "    k = randint(1, 40)\n",
    "    a = gen_testcase()\n",
    "    ac = a.copy()\n",
    "    ab = a.copy()\n",
    "    smallest = nsmallest(k, ac)\n",
    "    smallest_ref = reference(k, ab)\n",
    "    if set(smallest) != set(smallest_ref):\n",
    "        print(ac, k)\n",
    "        print(sorted(smallest))\n",
    "        print(sorted(smallest_ref))\n",
    "        break\n",
    "else:\n",
    "    print('ok')"
   ]
  },
  {
   "cell_type": "markdown",
   "metadata": {
    "deletable": true,
    "editable": true
   },
   "source": [
    "## Strategies"
   ]
  },
  {
   "cell_type": "code",
   "execution_count": 16,
   "metadata": {
    "collapsed": false,
    "deletable": true,
    "editable": true
   },
   "outputs": [],
   "source": [
    "from hypothesis import given, note\n",
    "from hypothesis.strategies import integers, lists, randoms, composite, choices\n",
    "\n",
    "\n",
    "@composite\n",
    "def array(draw):\n",
    "    n = draw(integers(min_value=2, max_value=100))\n",
    "    arr = draw(lists(elements=integers(min_value=1), min_size=n, max_size=n, unique=True))\n",
    "    \n",
    "    k = draw(integers(min_value=1, max_value=n))\n",
    "    \n",
    "    return (arr, k)"
   ]
  },
  {
   "cell_type": "markdown",
   "metadata": {
    "deletable": true,
    "editable": true
   },
   "source": [
    "# Test"
   ]
  },
  {
   "cell_type": "code",
   "execution_count": 17,
   "metadata": {
    "collapsed": false,
    "deletable": true,
    "editable": true
   },
   "outputs": [
    {
     "name": "stdout",
     "output_type": "stream",
     "text": [
      "ok\n"
     ]
    }
   ],
   "source": [
    "import heapq\n",
    "\n",
    "@given(data=array())\n",
    "def test_nsmallest(data):\n",
    "    \n",
    "    A, n = data\n",
    "    result = nsmallest(n, A)\n",
    "    ref = heapq.nsmallest(n, A)\n",
    "    \n",
    "    note(\n",
    "        \">>> nsmallest(%d, %s)\\n\"\n",
    "        \"%s\\n\\n\"\n",
    "        \"Ожидалось: %s (с точностью до перестановки)\" % (n, A, result, ref)\n",
    "    )\n",
    "    \n",
    "    assert sorted(result) == ref\n",
    "    \n",
    "test_nsmallest()\n",
    "print('ok')"
   ]
  }
 ],
 "metadata": {
  "kernelspec": {
   "display_name": "Python 3",
   "language": "python",
   "name": "python3"
  },
  "language_info": {
   "codemirror_mode": {
    "name": "ipython",
    "version": 3
   },
   "file_extension": ".py",
   "mimetype": "text/x-python",
   "name": "python",
   "nbconvert_exporter": "python",
   "pygments_lexer": "ipython3",
   "version": "3.5.2"
  }
 },
 "nbformat": 4,
 "nbformat_minor": 2
}
