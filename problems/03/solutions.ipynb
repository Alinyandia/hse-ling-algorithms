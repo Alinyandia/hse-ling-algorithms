{
 "cells": [
  {
   "cell_type": "markdown",
   "metadata": {
    "deletable": true,
    "editable": true
   },
   "source": [
    "1.\n",
    "\n",
    "*Инверсией* в перестановке $\\pi$ называется пара индексов $(i,j)$ такая что $i<j$, но $\\pi_i>\\pi_j$. Докажите, что в перестановке из $n$ элементов может быть не более $\\frac{n(n-1)}{2}$ инверсий. В какой перестановке число инверсий ровно $\\frac{n(n-1)}{2}$?"
   ]
  },
  {
   "cell_type": "markdown",
   "metadata": {
    "collapsed": true,
    "deletable": true,
    "editable": true
   },
   "source": [
    "*Доказательство:* методом математической индукции по длине массива.\n",
    "\n",
    "* База индукции: для $n=1$ число инверсий, очевидно, $0 \\leq n(n-1)/2 = 0$\n",
    "* Предположение: для $(n-1)$-элементного массива число инверсий действительно $\\leq (n-1)(n-2)/2$\n",
    "* Индуктивный переход: добавляя ещё один элемент к $(n-1)$-элементному массиву, число возникающих с этим элементом инверсий не может быть больше чем $(n-1)$ (просто потому что это все элементы которые у нас есть). Это точная оценка: $(n-1)$ новых инверсий действительно достигается если новый элемент больше всех остальных и добавлен в начало. Отсюда:\n",
    "\n",
    "$$I_n \\leq I_{n-1} + n-1 = \\frac{(n-1)(n-2)}{2} + n - 1 = \\frac{n(n-1)}{2}$$\n",
    "\n",
    "Что и требовалось доказать. Ровно $n(n-1)/2$ инверсий содержится в массиве, отсортированном в обратном порядке."
   ]
  },
  {
   "cell_type": "markdown",
   "metadata": {
    "deletable": true,
    "editable": true
   },
   "source": [
    "2.\n",
    "\n",
    "В доказательстве нижней границы сложности сортировок на основе сравнений фигурировало выражение $\\log_2{n!}$, которое мы оценивали формулой Стирлинга. Но можно ограничиться и школьной математикой: используя лишь свойство логарифма произведения, докажите более слабое утверждение: $\\log_2{n!} \\ge Cn\\log_2{n}$."
   ]
  },
  {
   "cell_type": "markdown",
   "metadata": {
    "collapsed": true,
    "deletable": true,
    "editable": true
   },
   "source": [
    "$$\n",
    "\\begin{gathered}\n",
    "\\log_2{n!} = \\log_2{(1 \\cdot 2 \\cdot \\cdots \\cdot n)}\n",
    "= \\log_2{1} + \\log_2{2} + \\cdots + \\log_2{n} \\ge \\\\\n",
    "\\ge \\log_2{\\frac{n}{2}} + \\cdots + \\log_2{n}\n",
    "\\ge \\frac{n}{2} \\log_2{\\frac{n}{2}} = \\frac{n}{2} (\\log_2{n} - 1) \\ge \\\\\n",
    "\\ge \\frac{n}{2} (\\log_2{n} - \\frac{1}{2}\\log_2{n}) = \\frac{n}{4} \\log_2{n}\n",
    "\\end{gathered}\n",
    "$$"
   ]
  },
  {
   "cell_type": "markdown",
   "metadata": {
    "deletable": true,
    "editable": true
   },
   "source": [
    "3.\n",
    "\n",
    "Дана квадратная матрица `A` размера `n×n`, заполненная нулями и единицами. Известно, что за исключением элемента `A[i][i]`, значение которого не определено, строка с индексом `i` состоит из нулей, а столбец с индексом `i` — из единиц. Очевидно, что `i` единственно. Напишите функцию, которая возвращает `i`. Время работы алгоритма — `O(n)`.\n",
    "\n",
    "*Подсказка:* попробуйте посмотреть на `A[i][j]` как на результат сравнения некоторых элементов `i` и `j`. Вспомните, что максимум из `n` элементов можно найти за `O(n)`."
   ]
  },
  {
   "cell_type": "code",
   "execution_count": 1,
   "metadata": {
    "collapsed": true,
    "deletable": true,
    "editable": true
   },
   "outputs": [],
   "source": [
    "def get_idx(A):\n",
    "    i, j = 0, 0\n",
    "    \n",
    "    while max(i, j) < len(A):\n",
    "        if i == j or A[i][j] == 1:\n",
    "            i += 1\n",
    "        else:\n",
    "            j += 1\n",
    "            \n",
    "    return j"
   ]
  },
  {
   "cell_type": "code",
   "execution_count": 2,
   "metadata": {
    "collapsed": false,
    "deletable": true,
    "editable": true
   },
   "outputs": [
    {
     "data": {
      "text/plain": [
       "1"
      ]
     },
     "execution_count": 2,
     "metadata": {},
     "output_type": "execute_result"
    }
   ],
   "source": [
    "get_idx([\n",
    "    [0, 1, 0],\n",
    "    [0, 1, 0],\n",
    "    [1, 1, 1]\n",
    "])"
   ]
  },
  {
   "cell_type": "markdown",
   "metadata": {
    "deletable": true,
    "editable": true
   },
   "source": [
    "4.\n",
    "\n",
    "В сортировке вставками для добавления элемента в отсортированный префикс фактически используется линейный поиск. Однако можно было бы использовать и бинарный поиск для нахождения точного индекса для нового элемента. Это не улучшает асимптотическую сложность — потребуется освободить место для нового элемента, и это по-прежнему линейная операция. Зато (теоретически) это уменьшает число операций сравнения. Реализуйте такую сортировку на основе приведённого в шаблоне кода. Для бинарного поиска используйте функции из модуля `bisect` стандартной библиотеки."
   ]
  },
  {
   "cell_type": "code",
   "execution_count": 3,
   "metadata": {
    "collapsed": false,
    "deletable": true,
    "editable": true
   },
   "outputs": [],
   "source": [
    "from bisect import *\n",
    "\n",
    "def insertion_sort(A):\n",
    "    for j in range(1, len(A)):\n",
    "        key = A[j]\n",
    "        \n",
    "        # bisect_left тоже будет работать, но повлечёт больше копирований\n",
    "        # если значение key встречается в отсортированой префиксе\n",
    "        # несколько раз\n",
    "        idx = bisect_right(A, key, 0, j)\n",
    "        \n",
    "        for i in range(j, idx, -1):\n",
    "            A[i] = A[i-1]\n",
    "            \n",
    "        A[idx] = key\n",
    "\n",
    "    return A"
   ]
  },
  {
   "cell_type": "markdown",
   "metadata": {
    "deletable": true,
    "editable": true
   },
   "source": [
    "5.\n",
    "\n",
    "Имеется `n`-элементный массив, в котором только 3 различных элемента: 'B' («blue»), 'R' («red») и 'W' («white»). Реализуйте (на основе процедуры `partition` из алгоритма Quicksort) сортировку такого массива в порядке цветов флага Нидерландов. Время работы: `O(n)`, дополнительная память: `O(1)`."
   ]
  },
  {
   "cell_type": "code",
   "execution_count": 4,
   "metadata": {
    "collapsed": false,
    "deletable": true,
    "editable": true
   },
   "outputs": [],
   "source": [
    "colours = {'R': 0, 'W': 1, 'B': 2}\n",
    "\n",
    "\n",
    "def flag_partition(A, lo, hi, pivot):\n",
    "    # За исключением сравнения цветов и явного задания pivot,\n",
    "    # функция не отличается от обычного partition из quicksort.\n",
    "    i = lo\n",
    "\n",
    "    for j in range(lo, hi):\n",
    "        if colours[A[j]] <= colours[pivot]:\n",
    "            A[i], A[j] = A[j], A[i]\n",
    "            i += 1\n",
    "    return i\n",
    "\n",
    "\n",
    "def three_sort(A):\n",
    "    # Отделяем синий цвет вправо\n",
    "    m = flag_partition(A, 0, len(A), 'W')\n",
    "    # Разделяем цвета в подмассиве с красным и белым цветом\n",
    "    flag_partition(A, 0, m, 'R') \n",
    "    return A\n",
    "    \n",
    "\n",
    "# Существует также аналогичное,\n",
    "# но более специализированное решение three-way-partition:\n",
    "# https://en.wikipedia.org/wiki/Dutch_national_flag_problem"
   ]
  },
  {
   "cell_type": "code",
   "execution_count": 5,
   "metadata": {
    "collapsed": false,
    "deletable": true,
    "editable": true
   },
   "outputs": [
    {
     "data": {
      "text/plain": [
       "['R', 'R', 'R', 'W', 'W', 'W', 'B', 'B', 'B']"
      ]
     },
     "execution_count": 5,
     "metadata": {},
     "output_type": "execute_result"
    }
   ],
   "source": [
    "three_sort(['B', 'B', 'W', 'R', 'B', 'R', 'R', 'W', 'W'])"
   ]
  },
  {
   "cell_type": "markdown",
   "metadata": {
    "deletable": true,
    "editable": true
   },
   "source": [
    "6.\n",
    "\n",
    "Напишите функцию на основе Quicksort, возвращающую `m` наименьших элементов исходного массива (не обязательно отсортированных). Время работы: `O(n)`."
   ]
  },
  {
   "cell_type": "code",
   "execution_count": 6,
   "metadata": {
    "collapsed": false,
    "deletable": true,
    "editable": true
   },
   "outputs": [],
   "source": [
    "def partition(A, lo, hi):\n",
    "    # Без изменений\n",
    "    \n",
    "    pivot = A[hi]\n",
    "    i = lo\n",
    "\n",
    "    for j in range(lo, hi):\n",
    "        if A[j] <= pivot:\n",
    "            A[i], A[j] = A[j], A[i]\n",
    "            i += 1\n",
    "\n",
    "    A[i], A[hi] = A[hi], A[i]\n",
    "    return i\n",
    "\n",
    "\n",
    "def qs(A, m, lo, hi):\n",
    "    # Алгоритм напоминает quicksort, но, после разделения\n",
    "    # массива на две части вокруг pivot, продолжает сортировку\n",
    "    # только в одно из частей – в той, в которой находятся\n",
    "    # интересующие нас m элементов.\n",
    "    \n",
    "    # Код аналогичен поиску m-й порядковой статистики.\n",
    "    \n",
    "    if lo < hi:\n",
    "        p = partition(A, lo, hi)\n",
    "        if m < p:\n",
    "            qs(A, m, lo, p-1)\n",
    "        elif m > p:\n",
    "            qs(A, m, p+1, hi)\n",
    "        else:\n",
    "            return A\n",
    "    return A\n",
    "\n",
    "\n",
    "def nsmallest(m, A):\n",
    "    return qs(A, m, 0, len(A)-1)[:m]"
   ]
  },
  {
   "cell_type": "code",
   "execution_count": 7,
   "metadata": {
    "collapsed": false,
    "deletable": true,
    "editable": true
   },
   "outputs": [
    {
     "data": {
      "text/plain": [
       "[44, 21, 40]"
      ]
     },
     "execution_count": 7,
     "metadata": {},
     "output_type": "execute_result"
    }
   ],
   "source": [
    "nsmallest(3, [44, 64, 21, 86, 40, 46, 95])"
   ]
  },
  {
   "cell_type": "markdown",
   "metadata": {
    "deletable": true,
    "editable": true
   },
   "source": [
    "7.\n",
    "\n",
    "Напишите функцию, вычисляющую симметрическую разность двух отсортированных массивов. Гарантируется, что в каждом из массивов нет повторяющихся элементов. *Подсказка:* в качестве вдохновения используйте функцию `merge` из Mergesort."
   ]
  },
  {
   "cell_type": "code",
   "execution_count": 8,
   "metadata": {
    "collapsed": true,
    "deletable": true,
    "editable": true
   },
   "outputs": [],
   "source": [
    "def sym_diff(a1, a2):\n",
    "    # Идея очень похожа на слияние в mergesort:\n",
    "    # смотрим на первые элементы массивов, берём из них\n",
    "    # наименьший и добавляем к результату, перемещаясь\n",
    "    # к следущему элементу массива.\n",
    "    \n",
    "    # Отличие в том, что мы проверяем, содержится ли элемент\n",
    "    # в обоих массивах, и если да, то \"выбрасываем\" оба элемента.\n",
    "    \n",
    "    # Когда один из массивов закончился, добиваем результат\n",
    "    # оставшимися элементами.\n",
    "    \n",
    "    n1, n2 = len(a1), len(a2)\n",
    "    i = j = 0\n",
    "    result = []\n",
    "\n",
    "    while i < n1 and j < n2:\n",
    "        e1, e2 =  a1[i], a2[j]\n",
    "        \n",
    "        if e1 != e2:\n",
    "            result.append(e1 if (e1 < e2) else e2)\n",
    "        i += 1 if e1 <= e2 else 0\n",
    "        j += 1 if e1 >= e2 else 0\n",
    "\n",
    "    while i < n1:\n",
    "        result.append(a1[i])\n",
    "        i += 1\n",
    "\n",
    "    while j < n2:\n",
    "        result.append(a2[j])\n",
    "        j += 1\n",
    "\n",
    "    return result"
   ]
  },
  {
   "cell_type": "code",
   "execution_count": 9,
   "metadata": {
    "collapsed": false,
    "deletable": true,
    "editable": true
   },
   "outputs": [
    {
     "data": {
      "text/plain": [
       "[1, 3, 5, 10]"
      ]
     },
     "execution_count": 9,
     "metadata": {},
     "output_type": "execute_result"
    }
   ],
   "source": [
    "sym_diff([1, 2, 3, 4, 5], [2, 4, 10])"
   ]
  },
  {
   "cell_type": "markdown",
   "metadata": {
    "deletable": true,
    "editable": true
   },
   "source": [
    "8.\n",
    "\n",
    "Даны `n` отрезков на прямой, заданные в виде двух массивов действительных чисел `A` и `B`, где каждый отрезок это `(A[i], B[i])`. Найти максимальное `k`, для которого найдётся точка прямой покрытая `k` отрезками. Время работы: `O(n log(n))`, дополнительная память — `O(1)`."
   ]
  },
  {
   "cell_type": "code",
   "execution_count": 10,
   "metadata": {
    "collapsed": false,
    "deletable": true,
    "editable": true
   },
   "outputs": [],
   "source": [
    "def intervals(A, B):\n",
    "    \"\"\"\n",
    "    Принимает два массива действительных чисел размера `n`,\n",
    "    где `(A[i], B[i])` - отрезок на прямой.\n",
    "    Возвращает максимальное целое число `k`, для которого\n",
    "    найдётся точка прямой покрытая `k` отрезками.\n",
    "    \"\"\"\n",
    "\n",
    "    # A и B по условию должны иметь одну длину равную\n",
    "    # количеству отрезков\n",
    "    assert len(A) == len(B)\n",
    "    \n",
    "    # Метод .sort() у списков выполняет in-place сортировку,\n",
    "    # в отличие от sorted(), которая создаёт новый массив\n",
    "    A.sort()\n",
    "    B.sort()\n",
    "    \n",
    "    cov_now, cov_max = 0, 0\n",
    "\n",
    "    ln, rn = len(A), len(B)\n",
    "    li = ri = 0\n",
    "    \n",
    "    # Схема аналогичная слиянию массивов из mergesort:\n",
    "    # начинаем с первых элементов обоих массивов\n",
    "    # выбираем меньший элемент из двух\n",
    "    # из массива, откуда мы взяли этот элемент, считываем следующий.\n",
    "    \n",
    "    # При этом в нашей задаче элемент из A означает\n",
    "    # вхождение в зону покрытия некоторого отрезка,\n",
    "    # а элемент из B – выход из отрезка.\n",
    "    # Осталось только посчитать входы и выходы и найти максимум.\n",
    "\n",
    "    while li < ln and ri < rn:\n",
    "        l, r =  A[li], B[ri]\n",
    "        \n",
    "        if l < r:\n",
    "            cov_now += 1\n",
    "            li += 1\n",
    "        else:\n",
    "            cov_now -= 1\n",
    "            ri += 1\n",
    "            \n",
    "        cov_max = max(cov_now, cov_max)\n",
    "            \n",
    "    return cov_max"
   ]
  },
  {
   "cell_type": "code",
   "execution_count": 11,
   "metadata": {
    "collapsed": false,
    "deletable": true,
    "editable": true
   },
   "outputs": [
    {
     "data": {
      "text/plain": [
       "2"
      ]
     },
     "execution_count": 11,
     "metadata": {},
     "output_type": "execute_result"
    }
   ],
   "source": [
    "intervals(\n",
    "    [5, 3, 7],\n",
    "    [8, 6, 9]\n",
    ")"
   ]
  },
  {
   "cell_type": "markdown",
   "metadata": {
    "deletable": true,
    "editable": true
   },
   "source": [
    "9.\n",
    "\n",
    "Некоторые файловые менеджеры сортируют нумерованые файлы вида `1.jpg`, `2.jpg`, `3.jpg`, ... следующим образом:\n",
    "\t```\n",
    "\t1.jpg\n",
    "\t10.jpg\n",
    "\t100.jpg\n",
    "\t11.jpg\n",
    "\t...\n",
    "\t2.jpg\n",
    "\t20.jpg\n",
    "\t21.jpg\n",
    "\t...\n",
    "\t```\n",
    "\n",
    "Это результат сортировки с простым посимвольным сравнением. Оно хорошо подходит для сортировки фамилий, но плохо работает с нумероваными файлами: символ `1` «меньше» чем `2`, поэтому `100.jpg` стоит раньше чем `2.jpg`. Именно поэтому к названиям таких файлов часто добавляют нули (например `IMG_0042.jpg` в фотоаппаратах).\n",
    "\n",
    "Избавиться от этого помогает [натуральная сортировка](https://en.wikipedia.org/wiki/Natural_sort_order), в которой последовательности цифр в строке считаются за один символ. Напишите функцию `key` для стандартной питоновской функции [sorted](https://docs.python.org/3.6/library/functions.html#sorted), которая реализует натуральную сортировку строк состоищих из символов `a-z` и `0-9`. Функция не должна использовать регулярные выражения.\n",
    "\n",
    "P.S.: обратите внимание: в отличие от рассказанного на лекции примера, `sorted` принимает не функцию сравнивающую два элемента, а функцию отображающую элементы массива на некоторое множество сравнимых объектов (чисел, строк и т.п.), которые потом используются для сортировки."
   ]
  },
  {
   "cell_type": "code",
   "execution_count": 12,
   "metadata": {
    "collapsed": true,
    "deletable": true,
    "editable": true
   },
   "outputs": [],
   "source": [
    "def tokenise(string):\n",
    "    # Разбираем строку на массив из составляющих строку\n",
    "    # символов и чисел: причём несколько стоящих подряд\n",
    "    # чисел считается одним числовым токеном.\n",
    "    \n",
    "    # >>> tokenise('img1923aaa')\n",
    "    # ['i', 'm', 'g', 1923, 'a', 'a', 'a']\n",
    "    \n",
    "    tokens = []\n",
    "    ct, it = None, 0\n",
    "    for c in string:\n",
    "        if ct: tokens.append(ct) ; ct = None\n",
    "            \n",
    "        if c.isdigit():\n",
    "            it = 10 * it + int(c)\n",
    "        elif c.isalpha():\n",
    "            if it: tokens.append(it) ; it = 0\n",
    "            ct = c\n",
    "\n",
    "    if it: tokens.append(it)\n",
    "    if ct: tokens.append(ct)\n",
    "\n",
    "    return tokens\n",
    "\n",
    "def key(x):\n",
    "    tokens = tokenise(x)\n",
    "    \n",
    "    # Транслируем буквы в соответствующие им коды ASCII,\n",
    "    # а числа сдвигаем правее всех букв (максимальный\n",
    "    # код ASCII у буквы 'z')\n",
    "    \n",
    "    return tuple(\n",
    "        ord(t) if type(t) is str\n",
    "        else (t + ord('z') + 1)\n",
    "        for t in tokens\n",
    "    )"
   ]
  },
  {
   "cell_type": "code",
   "execution_count": 13,
   "metadata": {
    "collapsed": false,
    "deletable": true,
    "editable": true
   },
   "outputs": [
    {
     "data": {
      "text/plain": [
       "['1', '2', '3', '10', '11', '20', '21', '100']"
      ]
     },
     "execution_count": 13,
     "metadata": {},
     "output_type": "execute_result"
    }
   ],
   "source": [
    "sorted(['3', '10', '2', '20', '100', '11', '21', '1'], key=key)"
   ]
  }
 ],
 "metadata": {
  "kernelspec": {
   "display_name": "Python 3",
   "language": "python",
   "name": "python3"
  },
  "language_info": {
   "codemirror_mode": {
    "name": "ipython",
    "version": 3
   },
   "file_extension": ".py",
   "mimetype": "text/x-python",
   "name": "python",
   "nbconvert_exporter": "python",
   "pygments_lexer": "ipython3",
   "version": "3.5.2"
  }
 },
 "nbformat": 4,
 "nbformat_minor": 2
}
