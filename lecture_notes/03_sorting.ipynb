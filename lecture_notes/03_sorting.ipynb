{
 "cells": [
  {
   "cell_type": "markdown",
   "metadata": {
    "deletable": true,
    "editable": true
   },
   "source": [
    "# Алгоритмы сортировки"
   ]
  },
  {
   "cell_type": "markdown",
   "metadata": {
    "deletable": true,
    "editable": true
   },
   "source": [
    "Пусть на некотором множестве элементов задано\n",
    "отношение *полного порядка* $\\le$, т.е.\n",
    "\n",
    "$$\n",
    "\\begin{gathered}\n",
    "a \\le b ~~\\&~~ b \\le c ~~\\Rightarrow~~ a \\le c\\\\\n",
    "\\forall a, b ~\\rightarrow~ a \\le b  ~\\text{или}~ b \\le a\\\\\n",
    "a \\le b  ~~\\&~~ b \\le a  ~~\\equiv~~ a = b\n",
    "\\end{gathered}\n",
    "$$\n",
    "\n",
    "Задача сортировки упорядоченной последовательности элементов такого множества\n",
    "$\\langle a_1, a_2, \\dots, a_n\\rangle$\n",
    "сводится к поиску перестановки\n",
    "$\\langle a'_1, a'_2, \\dots, a'_n\\rangle$\n",
    "такой что $a'_1 \\le a'_2 \\le \\dots \\le a'_n$\n",
    "\n",
    "Элементами множества могут быть не только числа, но и произвольные объекты.\n",
    "На практике для введения на них отношения полного порядка\n",
    "можно задать *функцию сравнения*, например\n",
    "\n",
    "```python\n",
    ">> cmp(a, b)  #  <  0   если a < b\n",
    ">> cmp(a, b)  #  == 0   если a == b\n",
    ">> cmp(a, b)  #  >  0   если a > b\n",
    "```\n",
    "\n",
    "Другой вариант – ввести функцию отображения множества объектов на множество\n",
    "ключей, где уже задан полный порядок. Именно такой такая функция используется в Python.\n",
    "\n",
    "Алгоритмы сортировки, которые оперируют лишь этими абстрактными функциями и не зависят от типа элементов,\n",
    "называют сортировками *на основе сравнений*.\n",
    "\n",
    "Далее в описании алгоритмов в качестве упорядоченной последовательности будет фигурировать массив."
   ]
  },
  {
   "cell_type": "markdown",
   "metadata": {
    "deletable": true,
    "editable": true
   },
   "source": [
    "# Сортировка пузырьком\n",
    "Bubble sort (Knuth, Section 5.2.2)"
   ]
  },
  {
   "cell_type": "markdown",
   "metadata": {
    "deletable": true,
    "editable": true
   },
   "source": [
    "Один из простейших способов сортировки состоит следующем:\n",
    "* Сравним $a_1$ и $a_2$, поменяем их местами если первый элемент больше второго.\n",
    "* Сделаем то же самое со всеми остальными парами $a_{i}$ и $a_{i+1}$.\n",
    "* Будем повторять процедуру пока не будет сделано ни одного обмена -- это будет означать, что массив отсортирован."
   ]
  },
  {
   "cell_type": "code",
   "execution_count": 1,
   "metadata": {
    "collapsed": true,
    "deletable": true,
    "editable": true
   },
   "outputs": [],
   "source": [
    "def bubble_sort(A):\n",
    "    n = len(A)\n",
    "    unsorted = True\n",
    "    \n",
    "    while unsorted:\n",
    "        unsorted = False\n",
    "        for i in range(n-1):\n",
    "            if A[i] > A[i+1]:\n",
    "                A[i], A[i+1] = A[i+1], A[i]\n",
    "                unsorted = True\n",
    "    return A"
   ]
  },
  {
   "cell_type": "markdown",
   "metadata": {
    "deletable": true,
    "editable": true
   },
   "source": [
    "В результате каждого обмена бОльшие элементы перемещаются к концу массива («всплывают»). В худшем случае, когда массив отсортирован в обратном порядке, за одну итерацию по всему массиву «всплывает» лишь один такой элемент. Таких проходов будет $n$, и каждый раз мы совершаем $n-1$ операцию сравнения, т.е. суммарно $n(n-1) = O(n^2)$."
   ]
  },
  {
   "cell_type": "markdown",
   "metadata": {
    "deletable": true,
    "editable": true
   },
   "source": [
    "# Сортировка вставками\n",
    "\n",
    "Insertion sort (Cormen, Section 2.1)"
   ]
  },
  {
   "cell_type": "markdown",
   "metadata": {
    "deletable": true,
    "editable": true
   },
   "source": [
    "При сортировке вставками мы мысленно выделяем в массиве отсортированный префикс, и постепенно увеличиваем его размер.\n",
    "* На первом шаге таким префиксом можно считать $\\langle a_1 \\rangle$ (тривиально отсортирован).\n",
    "* На $i$-м шаге у нас будет отсортированый префикс $\\langle a'_1, ..., a'_{i}\\rangle$, к которому мы добавляем $a_{i+1}$, перемещая его справа налево, пока он не встанет на корректную позицию, получая в итоге $(i+1)$-элементный отсортированый префикс."
   ]
  },
  {
   "cell_type": "code",
   "execution_count": 2,
   "metadata": {
    "collapsed": true,
    "deletable": true,
    "editable": true
   },
   "outputs": [],
   "source": [
    "def insertion_sort(A):\n",
    "    for j in range(1, len(A)):\n",
    "        # В этой точке отсортированый префикс в массиве\n",
    "        # имеет длину j\n",
    "        key = A[j]\n",
    "        i = j\n",
    "        while i>0 and A[i-1]>key:\n",
    "            A[i] = A[i-1]\n",
    "            i -= 1\n",
    "        A[i] = key\n",
    "    return A"
   ]
  },
  {
   "cell_type": "markdown",
   "metadata": {
    "deletable": true,
    "editable": true
   },
   "source": [
    "В худшем случае (отсортированный в обратном порядке массив) элемент $a_{i+1}$ будет «протащен» через все $i$ элементов префикса, количество операций при этом будет пропорционально\n",
    "$$T(n) = \\sum_{i=1}^{n} i = \\frac{n(n-1)}{2}$$\n",
    "и хотя $T(n)$ по-прежнему $O(n^2)$, количество операций здесь меньше чем в сортировке пузырьком на постоянный множитель.\n"
   ]
  },
  {
   "cell_type": "markdown",
   "metadata": {
    "deletable": true,
    "editable": true
   },
   "source": [
    "# Сложность сортировок на основе сравнений"
   ]
  },
  {
   "cell_type": "markdown",
   "metadata": {
    "deletable": true,
    "editable": true
   },
   "source": [
    "Для сортировок на основе сравнений можно аналитически оценить *минимально необходимое* в худшем случае количество операций сравнения.\n",
    "\n",
    "Пусть последовательность содержит $n$ различных элементов. Операция сравнения имеет два исхода, при которых алгоритм преобразует исходную перестановку элементов в одну из двух других. Таким образом $f(n)$ сравнений потенциально могут «покрыть» $2^{f(n)}$ возможных перестановок. Но отсортированная последовательность может соответствовать любой из $n!$ возможных перестановок, поэтому\n",
    "\n",
    "$$\n",
    "2^{f(n)} \\ge n!  ~~\\Rightarrow~~ f(n) \\ge \\log_2{(n!)}\n",
    "$$\n",
    "\n",
    "Из формулы Стирлинга:\n",
    "$$\n",
    "\\log_2{(n!)} = n\\log_2{n} - (\\log_2{e})n + O(\\log n) \\in \\Theta(n \\log_2 n)\\\\\n",
    "$$\n",
    "\n",
    "Значит как минимум $f(n) \\in \\Omega(n \\log_2 n)$."
   ]
  },
  {
   "cell_type": "markdown",
   "metadata": {
    "deletable": true,
    "editable": true
   },
   "source": [
    "# «Разделяй и властвуй»\n",
    "\n",
    "Divide and Conquer (Cormen, Section 2.3.1, Chapter 4)."
   ]
  },
  {
   "cell_type": "markdown",
   "metadata": {
    "deletable": true,
    "editable": true
   },
   "source": [
    "Следующие два алгоритма сортировки объединяет общая парадигма построения алгоритмов: *разделяй и властвуй*. Такие алгоритмы можно разбить на три части:\n",
    "* **Divide:** разделение исходной задачи на несколько подзадач того же типа, но меньшего размера.\n",
    "* **Conquer:** рекурсивно применять алгоритм к этим подзадачам, пока их размер не станет достаточно мал чтобы решить их за константное время.\n",
    "* **Combine:** объединить решения подзадач в решение исходной задачи."
   ]
  },
  {
   "cell_type": "markdown",
   "metadata": {
    "deletable": true,
    "editable": true
   },
   "source": [
    "# Сортировка слиянием\n",
    "Merge Sort (Cormen, Section 2.3.1)"
   ]
  },
  {
   "cell_type": "markdown",
   "metadata": {
    "deletable": true,
    "editable": true
   },
   "source": [
    "Сортировка слиянием основана на алгоритме объединения («слияния») двух отсортированых массовов в один отсортированый.\n",
    "\n",
    "TODO"
   ]
  },
  {
   "cell_type": "markdown",
   "metadata": {
    "deletable": true,
    "editable": true
   },
   "source": [
    "# Master Theorem"
   ]
  },
  {
   "cell_type": "markdown",
   "metadata": {
    "deletable": true,
    "editable": true
   },
   "source": [
    "Пусть $a \\ge 1$ и $b \\ge 1$ -- константы, $f(n)$ некоторая функция, а $T(n)$ определена на $\\mathbb{N}$ рекуррентной формулой:\n",
    "$$\n",
    "T(n) = aT\\left(\\frac{n}{b}\\right) + f(n)\n",
    "$$\n",
    "\n",
    "Тогда $T(n)$ может иметь следующие асимптотические оценки:\n",
    "* Если $f(n) = O(n^{\\log_b{a-\\epsilon}})$ при некотором $\\epsilon > 0$, то $T(n) \\in \\Theta(n^{\\log_b{a}})$\n",
    "* Если $f(n) = \\Theta(n^{\\log_b{a}})$ то $T(n) \\in \\Theta(n^{\\log_b{a}} \\log{n})$\n",
    "* Если $f(n) = \\Omega(n^{\\log_b{a+\\epsilon}})$ при некоторого $\\epsilon > 0$, и если $af(n/b) \\le cf(n)$ при некотором $c<1$, то $T(n) \\in \\Theta(f(n))$.\n",
    "\n",
    "Сортировка слиянием:\n",
    "$$\n",
    "T(n) = 2T(n/2) + \\Theta(n) = \\Theta(n^{\\log_2{2}} \\log{n}) = \\Theta(n\\log{n})\n",
    "$$\n",
    "\n",
    "Умножение Карацюбы:\n",
    "$$\n",
    "T(n) = 3T(\\lceil n/2 \\rceil) + \\Theta(n) = \\Theta(n^{\\log_{2} 3})\n",
    "$$"
   ]
  },
  {
   "cell_type": "markdown",
   "metadata": {
    "deletable": true,
    "editable": true
   },
   "source": [
    "# «Быстрая» сортировка\n",
    "Quicksort (Cormen, Chapter 7)"
   ]
  },
  {
   "cell_type": "markdown",
   "metadata": {
    "deletable": true,
    "editable": true
   },
   "source": [
    "Quicksort тоже использует парадигму «разделяй и властвуй». В in-place варианте алгоритм состоит из следующих шагов:\n",
    "\n",
    "* Выберем в массиве некоторый элемент. Он называется *опорным* (pivot).\n",
    "* Расположим опорный элемент в массиве так, чтобы слева от него оказались меньшие элементы, а справа — большие.\n",
    "* Отсортируем левый и правый подмассивы.\n",
    "\n",
    "Используя для передача подмассивов индексы их начала (`lo`) и конца (`hi`), рекурсивная часть будет выглядеть так:"
   ]
  },
  {
   "cell_type": "code",
   "execution_count": 6,
   "metadata": {
    "collapsed": true,
    "deletable": true,
    "editable": true
   },
   "outputs": [],
   "source": [
    "def quicksort(A):\n",
    "    return qs(A, 0, len(A)-1)\n",
    "\n",
    "def qs(A, lo, hi):\n",
    "    if lo < hi:\n",
    "        p = partition(A, lo, hi)\n",
    "        qs(A, lo, p-1)\n",
    "        qs(A, p+1, hi)\n",
    "    return A"
   ]
  },
  {
   "cell_type": "markdown",
   "metadata": {
    "deletable": true,
    "editable": true
   },
   "source": [
    "Основная работа происходит в функции ``partition``.\n",
    "Существует несколько вариантов её реализации.\n",
    "В самом простом из них последний элемент массива берётся в качестве опорного:"
   ]
  },
  {
   "cell_type": "code",
   "execution_count": 7,
   "metadata": {
    "collapsed": true,
    "deletable": true,
    "editable": true
   },
   "outputs": [],
   "source": [
    "def partition(A, lo, hi):\n",
    "    pivot = A[hi]\n",
    "    i = lo\n",
    "    \n",
    "    for j in range(lo, hi):\n",
    "        if A[j] <= pivot:\n",
    "            A[i], A[j] = A[j], A[i]\n",
    "            i += 1\n",
    "\n",
    "    A[i], A[hi] = A[hi], A[i]\n",
    "    return i"
   ]
  },
  {
   "cell_type": "markdown",
   "metadata": {
    "deletable": true,
    "editable": true
   },
   "source": [
    "# Поиск порядковых статистик\n",
    "\n",
    "Selection problem (Cormen, Chapter 9)"
   ]
  },
  {
   "cell_type": "markdown",
   "metadata": {
    "deletable": true,
    "editable": true
   },
   "source": [
    "$i$-й *порядковой статистикой* множества из $n$ элементов называется $i$-й по величине элемент множества. Например, 1-я порядковая статистика — минимальный элемент множества. *Медианой* будем называть $i$-ю порядковую статистику где $i=\\lfloor(n+1)/2\\rfloor$.\n",
    "\n",
    "Очевидный способ поиска $i$-й порядковой статистики в массиве: отсортировать элементы по возрастанию и взять элемент по индексу $(i-1)$. Это корректное решение, но оно требует как минимум $\\Omega(n\\log{n})$ операций.\n",
    "\n",
    "TODO"
   ]
  },
  {
   "cell_type": "markdown",
   "metadata": {
    "deletable": true,
    "editable": true
   },
   "source": [
    "# Сортировка выбором\n",
    "\n",
    "Selection sort"
   ]
  },
  {
   "cell_type": "markdown",
   "metadata": {
    "deletable": true,
    "editable": true
   },
   "source": [
    "Рассмотрим ещё одну «медленную» сортировку. Она похожа на сортировку вставками, но теперь в отсортированный префикс мы будем добавлять не следующий элемент, а минимальный из оставшихся. На $i$-м шаге у нас будет отсортированый префикс $\\langle a'_1, ..., a'_{i}\\rangle$, к которому мы добавляем $a_{min}= \\min \\langle a_{i+1}, ..., a_{n}\\rangle$ меняя $a_{min}$ и $a_{i+1}$ местами."
   ]
  },
  {
   "cell_type": "code",
   "execution_count": 8,
   "metadata": {
    "collapsed": true,
    "deletable": true,
    "editable": true
   },
   "outputs": [],
   "source": [
    "def selection_sort(A):\n",
    "    n = len(A)\n",
    "    for i in range(n):\n",
    "        min_i = i\n",
    "        for j in range(i, n):\n",
    "            if A[j] < A[min_i]:\n",
    "                min_i = j  \n",
    "        A[i], A[min_i] = A[min_i], A[i]\n",
    "    return A"
   ]
  },
  {
   "cell_type": "markdown",
   "metadata": {
    "deletable": true,
    "editable": true
   },
   "source": [
    "Поиск минимума по $n, n-1, n-2, \\dots$  элементам суффикса массива здесь производится $n$ раз, т.е. снова имеем квадратичное число операций. Аналогично реализуется алгоритм, в котором строится отсортированный суффикс, и вместо минимума ищется максимум.\n",
    "\n",
    "Если бы поиск минимума или максимума производился за сублинейное время, то и сама сортировка работала бы быстрее. Построению такого алгоритма посвящены следующие два раздела."
   ]
  },
  {
   "cell_type": "markdown",
   "metadata": {
    "deletable": true,
    "editable": true
   },
   "source": [
    "# Очередь с приоритетом и двоичная куча\n",
    "Priority Queue and Binary Heap"
   ]
  },
  {
   "cell_type": "markdown",
   "metadata": {
    "deletable": true,
    "editable": true
   },
   "source": [
    "*Очередь с приоритетом* – абстрактный тип данных поддерживающий добавление элементов, а также удаление и/или поиск максимального или минимального элемента.\n",
    "\n",
    "Наиболее эффективную реализацию очереди с приоритетом даёт структура данных *двоичная куча*. Её можно рассматривать *почти полное* бинарное дерево: в нём должны быть заполнены все уровни кроме разве что нижнего, который может быть частично заполнен слева направо.\n",
    "\n",
    "Элементы такого дерева можно хранить в массиве, в порядке обхода уровней слева направо начиная с корня. В таком массиве можно быстро находить родительские и дочерние узлы:"
   ]
  },
  {
   "cell_type": "code",
   "execution_count": 9,
   "metadata": {
    "collapsed": true,
    "deletable": true,
    "editable": true
   },
   "outputs": [],
   "source": [
    "parent = lambda i: (i-1)//2\n",
    "left  =  lambda i: 2*i+1\n",
    "right =  lambda i: 2*i+2"
   ]
  },
  {
   "cell_type": "markdown",
   "metadata": {
    "deletable": true,
    "editable": true
   },
   "source": [
    "Заметим также, что любой префикс этого массива будет являться деревом кучи меньшего размера."
   ]
  },
  {
   "cell_type": "markdown",
   "metadata": {
    "deletable": true,
    "editable": true
   },
   "source": [
    "В дереве кучи должно выполняться одно из двух свойств:\n",
    "* **max-heap:** значение любого узла больше значений его дочерних узлов\n",
    "* **min-heap:** значение любого узла меньше значений его дочерних узлов\n",
    "\n",
    "В дальнейшем мы будем рассматривать только max-heap. Необходимо построить in-place алгоритм,\n",
    "который трансформировал бы произвольный массив в max-heap.\n",
    "\n",
    "Рассмотрим поддерево из трёх элементов на предпоследнем уровне. Для превращения его в кучу надо выбрать из этих элементов максимальный и переместить в корень поддерева. Аналогично поступаем с поддеревьями уровнем выше, но теперь дополнительно рекурсивно вызываем процедуру для нижнего поддерева куда переместился меньший элемент, на случай если это действие нарушило свойство кучи.\n",
    "\n",
    "Итоговая процедура, запускаемая для некоторого поддерева с корнем по индексу `i`:"
   ]
  },
  {
   "cell_type": "code",
   "execution_count": 12,
   "metadata": {
    "collapsed": true,
    "deletable": true,
    "editable": true
   },
   "outputs": [],
   "source": [
    "def float_down(A, i, n):\n",
    "    l, r = left(i), right(i)\n",
    "    largest = i\n",
    "    if l < n and A[l] > A[largest]: largest = l\n",
    "    if r < n and A[r] > A[largest]: largest = r\n",
    "    \n",
    "    if largest != i:\n",
    "        A[i], A[largest] = A[largest], A[i]\n",
    "        float_down(A, largest, n)"
   ]
  },
  {
   "cell_type": "markdown",
   "metadata": {
    "deletable": true,
    "editable": true
   },
   "source": [
    "Чтобы построить max-heap целиком, нужно вызвать её последовательно для всех поддеревьев начиная с предпоследнего уровня:"
   ]
  },
  {
   "cell_type": "code",
   "execution_count": 13,
   "metadata": {
    "collapsed": true,
    "deletable": true,
    "editable": true
   },
   "outputs": [],
   "source": [
    "def heapify(A, n):\n",
    "    for i in range(n//2, -1, -1):\n",
    "        bubble_up(A, i, n)\n",
    "    return A"
   ]
  },
  {
   "cell_type": "markdown",
   "metadata": {
    "deletable": true,
    "editable": true
   },
   "source": [
    "TODO"
   ]
  },
  {
   "cell_type": "markdown",
   "metadata": {
    "deletable": true,
    "editable": true
   },
   "source": [
    "# Пирамидальная сортировка\n",
    "Heapsort\n",
    "\n",
    "TODO"
   ]
  },
  {
   "cell_type": "code",
   "execution_count": 14,
   "metadata": {
    "collapsed": true,
    "deletable": true,
    "editable": true
   },
   "outputs": [],
   "source": [
    "def heapsort(A):\n",
    "    n = len(A)\n",
    "    heapify(A, n)\n",
    "    for i in range(n-1, 0, -1):\n",
    "        A[0], A[i] = A[i], A[0]\n",
    "        n -= 1\n",
    "        float_down(A, 0, n)\n",
    "    return A"
   ]
  }
 ],
 "metadata": {
  "kernelspec": {
   "display_name": "Python 3",
   "language": "python",
   "name": "python3"
  },
  "language_info": {
   "codemirror_mode": {
    "name": "ipython",
    "version": 3
   },
   "file_extension": ".py",
   "mimetype": "text/x-python",
   "name": "python",
   "nbconvert_exporter": "python",
   "pygments_lexer": "ipython3",
   "version": "3.5.2"
  }
 },
 "nbformat": 4,
 "nbformat_minor": 2
}
