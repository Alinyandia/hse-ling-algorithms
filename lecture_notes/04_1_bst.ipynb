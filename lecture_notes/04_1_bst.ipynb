{
 "cells": [
  {
   "cell_type": "markdown",
   "metadata": {
    "deletable": true,
    "editable": true
   },
   "source": [
    "# Двоичное дерево\n",
    "Binary Tree\n",
    "\n",
    "Литература:\n",
    "* Cormen et al, *Introduction to Algorithms*, Chapter 12"
   ]
  },
  {
   "cell_type": "markdown",
   "metadata": {
    "deletable": true,
    "editable": true
   },
   "source": [
    "*Двоичное дерево* — структура данных, определённая на конечном множестве *узлов* (nodes), которая либо\n",
    "* не содержит узлов,\n",
    "* либо содержит узел (*корень*, root) и два других двоичных дерева, называемых соответственно левым и правым *поддеревьями* (subtree). Будем считать, что порядок поддеревьев фиксирован.\n",
    "\n",
    "Корни поддеревьев (если они есть) называются соответственно левым и правым *потомками* (children) корня, связи между ними — *рёбрами*. Узлы без потомков называются *листовыми* (leaves), а остальные узлы — *внутренними* (internal).\n",
    "\n",
    "*Степень* узла (degree) — количество потомков этого узла. Говорят, что узлы со степенью $i$ находятся на $i$-м уровне дерева.\n",
    "\n",
    "*Глубина* узла (depth) – количество ребёр на пути от корня дерева этого узла.\n",
    "\n",
    "*Высота* дерева — наибольшая глубина узлов в дереве.\n",
    "\n",
    "Введём также несколько типов двоичных деревьев:\n",
    "\n",
    "* *Полное* (full): все узлы имеют степень либо 2, либо 0.\n",
    "* *Заполненное* (complete): полное дерево где у всех листьев одинаковая глубина.\n",
    "* *Почти заполненное* (nearly complete): дерево, в котором заполненны все уровни за исключением последнего, который заполнен слева направо. Именно оно используется для двоичной кучи."
   ]
  },
  {
   "cell_type": "markdown",
   "metadata": {},
   "source": [
    "Для простых экспериментов с двоичными деревьями удобно использовать библиотеку [binarytree](https://github.com/joowani/binarytree):"
   ]
  },
  {
   "cell_type": "code",
   "execution_count": 1,
   "metadata": {
    "collapsed": true,
    "deletable": true,
    "editable": true
   },
   "outputs": [],
   "source": [
    "from binarytree import tree, pprint, inspect"
   ]
  },
  {
   "cell_type": "markdown",
   "metadata": {
    "deletable": true,
    "editable": true
   },
   "source": [
    "Случайное двоичное дерево:"
   ]
  },
  {
   "cell_type": "code",
   "execution_count": 2,
   "metadata": {
    "collapsed": false,
    "deletable": true,
    "editable": true
   },
   "outputs": [
    {
     "name": "stdout",
     "output_type": "stream",
     "text": [
      "\n",
      "                    ____________________11___________________                     \n",
      "                   /                                         \\                    \n",
      "         _________17_________                        _________4_________          \n",
      "        /                    \\                      /                   \\         \n",
      "     __8___               ____5___             ____16___             ____3___     \n",
      "    /      \\             /        \\           /         \\           /        \\    \n",
      "  _2       _29         _25        _7         26         _1        _30        _0   \n",
      " /  \\     /   \\       /   \\      /  \\       /  \\       /  \\      /   \\      /  \\  \n",
      "14   9   12    19    13    22   18   27    6    15    28   20   21    10   24   23\n",
      "                                                                                  \n"
     ]
    },
    {
     "data": {
      "text/plain": [
       "{'height': 4,\n",
       " 'is_bst': False,\n",
       " 'is_full': True,\n",
       " 'is_height_balanced': True,\n",
       " 'is_max_heap': False,\n",
       " 'is_min_heap': False,\n",
       " 'is_weight_balanced': True,\n",
       " 'leaf_count': 16,\n",
       " 'max_leaf_depth': 4,\n",
       " 'max_value': 30,\n",
       " 'min_leaf_depth': 4,\n",
       " 'min_value': 0,\n",
       " 'node_count': 31}"
      ]
     },
     "execution_count": 2,
     "metadata": {},
     "output_type": "execute_result"
    }
   ],
   "source": [
    "T = tree(\n",
    "    balanced=True\n",
    ")\n",
    "pprint(T)\n",
    "inspect(T)"
   ]
  },
  {
   "cell_type": "markdown",
   "metadata": {
    "deletable": true,
    "editable": true
   },
   "source": [
    "На практике (и в пакете `binarytree`) для представления узла двоичного дерева используется класс:"
   ]
  },
  {
   "cell_type": "code",
   "execution_count": 3,
   "metadata": {
    "collapsed": true,
    "deletable": true,
    "editable": true
   },
   "outputs": [],
   "source": [
    "class Node(object):\n",
    "\n",
    "    def __init__(self, value):\n",
    "        self.value = value\n",
    "        self.left = None\n",
    "        self.right = None"
   ]
  },
  {
   "cell_type": "code",
   "execution_count": 4,
   "metadata": {
    "collapsed": false,
    "deletable": true,
    "editable": true,
    "scrolled": true
   },
   "outputs": [
    {
     "name": "stdout",
     "output_type": "stream",
     "text": [
      "\n",
      "    __10   \n",
      "   /    \\  \n",
      "  6      11\n",
      " / \\       \n",
      "1   5      \n",
      "           \n"
     ]
    }
   ],
   "source": [
    "from binarytree import Node\n",
    "\n",
    "root = Node(10)\n",
    "root.left = Node(6)\n",
    "root.right = Node(11)\n",
    "root.left.left = Node(1)\n",
    "root.left.right = Node(5)\n",
    "\n",
    "pprint(root)"
   ]
  },
  {
   "cell_type": "markdown",
   "metadata": {
    "deletable": true,
    "editable": true
   },
   "source": [
    "Для некоторых алгоритмов также необходимо иметь ссылку на *родительский* узел (`self.parent`)"
   ]
  },
  {
   "cell_type": "markdown",
   "metadata": {
    "deletable": true,
    "editable": true
   },
   "source": [
    "# Двоичное дерево поиска\n",
    "Binary Search Tree"
   ]
  },
  {
   "cell_type": "markdown",
   "metadata": {
    "deletable": true,
    "editable": true
   },
   "source": [
    "Пусть $x_v$ обозначает некоторое значение, связанное с узлом $x$.\n",
    "*Двоичное дерево поиска* определяется следующим свойством:"
   ]
  },
  {
   "cell_type": "markdown",
   "metadata": {},
   "source": [
    "<a id='bst_property'></a>\n",
    "> Пусть $x$ — некоторый узел. Если $a$ — узел из левого поддерева $x$, то $a_v \\le x_v$. Если $b$ — узел из правого поддерева $x$, то $b_v \\ge x_v$. "
   ]
  },
  {
   "cell_type": "code",
   "execution_count": 5,
   "metadata": {
    "collapsed": false,
    "deletable": true,
    "editable": true
   },
   "outputs": [
    {
     "name": "stdout",
     "output_type": "stream",
     "text": [
      "\n",
      "         _18            \n",
      "        /   \\           \n",
      "  _____15    21___      \n",
      " /                \\     \n",
      "6                 _23   \n",
      " \\               /   \\  \n",
      "  9             22    26\n",
      "   \\                    \n",
      "    14                  \n",
      "                        \n"
     ]
    }
   ],
   "source": [
    "from binarytree import bst\n",
    "pprint(bst())"
   ]
  },
  {
   "cell_type": "markdown",
   "metadata": {
    "deletable": true,
    "editable": true
   },
   "source": [
    "Согласно такому определению дерева поиска, если в дереве присутствуют узлы с одинаковыми значениями, то одно относительно другого может присутствовать как в левом, так и в правом поддереве:"
   ]
  },
  {
   "cell_type": "code",
   "execution_count": 6,
   "metadata": {
    "collapsed": false,
    "deletable": true,
    "editable": true
   },
   "outputs": [
    {
     "name": "stdout",
     "output_type": "stream",
     "text": [
      "\n",
      "    __6    \n",
      "   /   \\   \n",
      "  5     7  \n",
      " / \\     \\ \n",
      "2   5     8\n",
      "           \n"
     ]
    }
   ],
   "source": [
    "from binarytree import convert\n",
    "\n",
    "# Корректное (согласно определению) дерево поиска\n",
    "pprint(convert([6, 5, 7, 2, 5, None, 8]))"
   ]
  },
  {
   "cell_type": "markdown",
   "metadata": {
    "deletable": true,
    "editable": true
   },
   "source": [
    "Наличие повторяющихся значений обычно усложняет алгоритмы, поэтому на практике в деревьях поиска часто хранят лишь уникальные значения."
   ]
  },
  {
   "cell_type": "code",
   "execution_count": 23,
   "metadata": {
    "collapsed": false,
    "deletable": true,
    "editable": true
   },
   "outputs": [
    {
     "name": "stdout",
     "output_type": "stream",
     "text": [
      "\n",
      "  _____15____________      \n",
      " /                   \\     \n",
      "1              _______28   \n",
      " \\            /         \\  \n",
      "  5         _22          30\n",
      "   \\       /   \\           \n",
      "    11    19    23         \n",
      "                  \\        \n",
      "                   26      \n",
      "                           \n"
     ]
    }
   ],
   "source": [
    "# Вычисленное здесь дерево поиска\n",
    "# будет использовано в примерах ниже\n",
    "\n",
    "T = bst()\n",
    "pprint(T)"
   ]
  },
  {
   "cell_type": "markdown",
   "metadata": {
    "deletable": true,
    "editable": true
   },
   "source": [
    "## Поиск элемента\n",
    "\n",
    "[Свойство двоичного дерева поиска](#bst_property) позволяет использовать ту же стратегию, что и в поиске по отсортированному массиву:\n",
    "* Если дерево пусто, сообщаем что элемент не найден.\n",
    "* Сравниваем элемент со значением корнем дерева.\n",
    "* Если значения совпадают — возвращаем найденный узел\n",
    "* Если элемент больше, продолжаем поиск в правом поддереве.\n",
    "* Если меньше — в левом поддереве.\n",
    "\n",
    "Код рекурсивного алгоритма в точности повторяет это описание:"
   ]
  },
  {
   "cell_type": "code",
   "execution_count": 8,
   "metadata": {
    "collapsed": false
   },
   "outputs": [],
   "source": [
    "def search_recursive(node, k):\n",
    "    if node is None: return\n",
    "    \n",
    "    if k == node.value:\n",
    "        return node\n",
    "    elif k > node.value:\n",
    "        return search_recursive(node.right, k)\n",
    "    else:\n",
    "        return search_recursive(node.left, k)"
   ]
  },
  {
   "cell_type": "code",
   "execution_count": 25,
   "metadata": {
    "collapsed": false
   },
   "outputs": [
    {
     "data": {
      "text/plain": [
       "Node(11)"
      ]
     },
     "execution_count": 25,
     "metadata": {},
     "output_type": "execute_result"
    }
   ],
   "source": [
    "search_recursive(T, 11)"
   ]
  },
  {
   "cell_type": "markdown",
   "metadata": {},
   "source": [
    "Однако, пожертвовав выразительностью в пользу эффективности, перепишем его в итеративном виде:"
   ]
  },
  {
   "cell_type": "code",
   "execution_count": 10,
   "metadata": {
    "collapsed": false,
    "deletable": true,
    "editable": true
   },
   "outputs": [],
   "source": [
    "def search(node, k):\n",
    "    while node is not None and k != node.value:\n",
    "        if k < node.value:\n",
    "            node = node.left\n",
    "        else:\n",
    "            node = node.right\n",
    "    return node"
   ]
  },
  {
   "cell_type": "code",
   "execution_count": 27,
   "metadata": {
    "collapsed": false,
    "deletable": true,
    "editable": true
   },
   "outputs": [
    {
     "data": {
      "text/plain": [
       "Node(15)"
      ]
     },
     "execution_count": 27,
     "metadata": {},
     "output_type": "execute_result"
    }
   ],
   "source": [
    "search(T, 15)"
   ]
  },
  {
   "cell_type": "markdown",
   "metadata": {
    "deletable": true,
    "editable": true
   },
   "source": [
    "## Минимум и максимум\n",
    "\n",
    "Из свойства дерева поиска также следует алгоритм поиска минимального и максимального значений: искать их надо соответственно в крайних левом и правом узлах:"
   ]
  },
  {
   "cell_type": "code",
   "execution_count": 12,
   "metadata": {
    "collapsed": true,
    "deletable": true,
    "editable": true
   },
   "outputs": [],
   "source": [
    "def minimum(node):\n",
    "    if node is None: return\n",
    "    \n",
    "    while node.left:\n",
    "        node = node.left\n",
    "    return node\n",
    "\n",
    "def maximum(node):\n",
    "    if node is None: return\n",
    "    \n",
    "    while node.right:\n",
    "        node = node.right\n",
    "    return node"
   ]
  },
  {
   "cell_type": "code",
   "execution_count": 28,
   "metadata": {
    "collapsed": false,
    "deletable": true,
    "editable": true
   },
   "outputs": [
    {
     "name": "stdout",
     "output_type": "stream",
     "text": [
      "Node(1)\n",
      "Node(30)\n"
     ]
    }
   ],
   "source": [
    "print(repr(minimum(T)))\n",
    "print(repr(maximum(T)))"
   ]
  },
  {
   "cell_type": "markdown",
   "metadata": {
    "deletable": true,
    "editable": true
   },
   "source": [
    "## Обход дерева\n",
    "Tree traversal\n",
    "\n",
    "Под обходом дерева здесь подразумевается однократное применение некоторой функции `visit(node)` к каждому из узлов дерева. Например, эта функция может печатать, сравнивать или обновлять значения узлов. При этом порядок её применения к узлам зависит от используемого алгоритма."
   ]
  },
  {
   "cell_type": "markdown",
   "metadata": {
    "deletable": true,
    "editable": true
   },
   "source": [
    "### В глубину\n",
    "Depth-first\n",
    "\n",
    "При обходе дерева в глубину алгоритм, посетив узел $x$, переходит к другому узлу на той же глубине только после того, как посетит все узлы обоих поддеревьев с корнями $x_L$ и $x_R$.\n",
    "\n",
    "Алгоритм можно записать рекурсивно. Функция `depth_first`, принимая на вход $x$, он выполняет три операции:\n",
    "* Рекурсивно вызывает `depth_first` для поддерева с корнем $x_L$\n",
    "* Рекурсивно вызывает `depth_first` для поддерева с корнем $x_R$\n",
    "* Выполняет некоторую операцию `visit(x)`\n",
    "\n",
    "В зависимости от того в каком порядке эти операции исполняются, обход в глубину делится на три типа:"
   ]
  },
  {
   "cell_type": "code",
   "execution_count": 14,
   "metadata": {
    "collapsed": true,
    "deletable": true,
    "editable": true
   },
   "outputs": [],
   "source": [
    "def depth_first_preorder(node, visit):\n",
    "    if node is None: return\n",
    "    \n",
    "    visit(node)\n",
    "    depth_first_preorder(node.left, visit)\n",
    "    depth_first_preorder(node.right, visit)\n",
    "\n",
    "    \n",
    "def depth_first_inorder(node, visit):\n",
    "    if node is None: return\n",
    "    \n",
    "    depth_first_inorder(node.left, visit)\n",
    "    visit(node)\n",
    "    depth_first_inorder(node.right, visit)\n",
    "    \n",
    "    \n",
    "def depth_first_postorder(node, visit):\n",
    "    if node is None: return\n",
    "    \n",
    "    depth_first_postorder(node.left, visit)\n",
    "    depth_first_postorder(node.right, visit)\n",
    "    visit(node)"
   ]
  },
  {
   "cell_type": "code",
   "execution_count": 29,
   "metadata": {
    "collapsed": false,
    "deletable": true,
    "editable": true
   },
   "outputs": [
    {
     "name": "stdout",
     "output_type": "stream",
     "text": [
      "\n",
      "  _____15____________      \n",
      " /                   \\     \n",
      "1              _______28   \n",
      " \\            /         \\  \n",
      "  5         _22          30\n",
      "   \\       /   \\           \n",
      "    11    19    23         \n",
      "                  \\        \n",
      "                   26      \n",
      "                           \n",
      "Pre:\n",
      "15 1 5 11 28 22 19 23 26 30 \n",
      "In:\n",
      "1 5 11 15 19 22 23 26 28 30 \n",
      "Post:\n",
      "15 1 5 11 28 22 19 23 26 30 \n"
     ]
    }
   ],
   "source": [
    "def visit(node):\n",
    "    print(node.value, end=\" \")\n",
    "\n",
    "pprint(T)\n",
    "print('Pre:')\n",
    "depth_first_preorder(T, visit)\n",
    "print()\n",
    "\n",
    "print('In:')\n",
    "depth_first_inorder(T, visit)\n",
    "print()\n",
    "\n",
    "print('Post:')\n",
    "depth_first_preorder(T, visit)\n",
    "print()"
   ]
  },
  {
   "cell_type": "markdown",
   "metadata": {},
   "source": [
    "Обратите внимание, что `depth_first_inorder` обходит узлы в порядке их возрастания их значений (отсюда и название). Это можно использовать для проверки того, является ли двоичное дерево деревом поиска (т.е. выполяется ли его [свойство](#bst_property))."
   ]
  },
  {
   "cell_type": "markdown",
   "metadata": {
    "deletable": true,
    "editable": true
   },
   "source": [
    "### В ширину\n",
    "Breadth-first\n",
    "\n",
    "При обходе дерева в ширину алгоритм переходит к узлам с глубиной $n$ только после того как посетит все узлы глубины $n-1$. Иначе говоря, узлы будут обходиться «слева направо» начиная с корня и двигаясь по уровням вниз.\n",
    "\n",
    "Проходя по узлам одного уровня, алгоритм «собирает» их потомков — узлы следующего уровня — в очередь, чтобы до них дошла очередь (pun intended) когда узлы текущего уровня исчерпаются."
   ]
  },
  {
   "cell_type": "code",
   "execution_count": 16,
   "metadata": {
    "collapsed": true,
    "deletable": true,
    "editable": true
   },
   "outputs": [],
   "source": [
    "from collections import deque\n",
    "\n",
    "def breadth_first(node, visit):\n",
    "    \n",
    "    if node is None:\n",
    "        return\n",
    "    \n",
    "    q = deque()\n",
    "    q.append(node)\n",
    "    \n",
    "    while q:\n",
    "        c = q.popleft()\n",
    "        visit(c)\n",
    "        if c.left: q.append(c.left)\n",
    "        if c.right: q.append(c.right)"
   ]
  },
  {
   "cell_type": "code",
   "execution_count": 30,
   "metadata": {
    "collapsed": false,
    "deletable": true,
    "editable": true
   },
   "outputs": [
    {
     "name": "stdout",
     "output_type": "stream",
     "text": [
      "\n",
      "  _____15____________      \n",
      " /                   \\     \n",
      "1              _______28   \n",
      " \\            /         \\  \n",
      "  5         _22          30\n",
      "   \\       /   \\           \n",
      "    11    19    23         \n",
      "                  \\        \n",
      "                   26      \n",
      "                           \n",
      "15 1 28 5 22 30 11 19 23 26 "
     ]
    }
   ],
   "source": [
    "def visit(node):\n",
    "    print(node.value, end=\" \")\n",
    "\n",
    "pprint(T)\n",
    "breadth_first(T, visit)"
   ]
  },
  {
   "cell_type": "markdown",
   "metadata": {
    "deletable": true,
    "editable": true
   },
   "source": [
    "## Следующий и предыдущий узел по порядку\n",
    "Successor and Predecessor"
   ]
  },
  {
   "cell_type": "markdown",
   "metadata": {
    "deletable": true,
    "editable": true
   },
   "source": [
    "Сначала воспользуемся обходом дерева чтобы добавить в узлы ссылку на «родителя»:"
   ]
  },
  {
   "cell_type": "code",
   "execution_count": 31,
   "metadata": {
    "collapsed": false,
    "deletable": true,
    "editable": true
   },
   "outputs": [],
   "source": [
    "def visit(node):\n",
    "    if node.left is not None:\n",
    "        node.left.parent = node\n",
    "        \n",
    "    if node.right is not None:\n",
    "        node.right.parent = node \n",
    "\n",
    "breadth_first(T, visit)"
   ]
  },
  {
   "cell_type": "markdown",
   "metadata": {
    "deletable": true,
    "editable": true
   },
   "source": [
    "Свойство двоичного дерева поиска фактически поддерживает узлы в отсортированном порядке. Это даёт возможность для некоторого элемента найти в дереве элемент следующий за ним или предшествующий ему.\n",
    "\n",
    "Рассмотрим поиск следующего по порядку элемента. Пусть дан узел $x$. Если у него существует поддерево $x_R$, то следующий элемент находится именно в нём — элементы из $x_R$ больше $x$, но меньше чем любые элементы уровнями выше $x$. Следующий за $x$ элемент будет минимумом из $x_R$.\n",
    "\n",
    "Если же $x_R$ отсутствует, то элемент нужно искать уровнями выше. $x$ содержится в левом поддереве какого-то элемента, и является в нём максимальным (иначе следующий элемент мы бы выбирали из этого поддерева). Следовательно надо искать ближайшего «предка» $x$, для которого левый потомок также является предком $x$.\n",
    "\n",
    "Поиск предыдущего элемента реализуется симметрично."
   ]
  },
  {
   "cell_type": "code",
   "execution_count": 32,
   "metadata": {
    "collapsed": true,
    "deletable": true,
    "editable": true
   },
   "outputs": [],
   "source": [
    "def successor(node):\n",
    "    if node is None: return\n",
    "    \n",
    "    if node.right is not None:\n",
    "        return minimum(node.right)\n",
    "    \n",
    "    else:\n",
    "        ancestor = node.parent\n",
    "        while (ancestor is not None) and (node is ancestor.right):\n",
    "            node = ancestor\n",
    "            ancestor = ancestor.parent\n",
    "        \n",
    "        return ancestor\n",
    "\n",
    "def predecessor(node):\n",
    "    if node is None: return\n",
    "    \n",
    "    if node.left is not None:\n",
    "        return maximum(node.left)\n",
    "    \n",
    "    else:\n",
    "        ancestor = node.parent\n",
    "        while (ancestor is not None) and (node is ancestor.left):\n",
    "            node = ancestor\n",
    "            ancestor = ancestor.parent\n",
    "        \n",
    "        return ancestor"
   ]
  },
  {
   "cell_type": "code",
   "execution_count": 33,
   "metadata": {
    "collapsed": false,
    "deletable": true,
    "editable": true
   },
   "outputs": [
    {
     "data": {
      "text/plain": [
       "Node(15)"
      ]
     },
     "execution_count": 33,
     "metadata": {},
     "output_type": "execute_result"
    }
   ],
   "source": [
    "successor(search(T, 11))"
   ]
  },
  {
   "cell_type": "markdown",
   "metadata": {
    "deletable": true,
    "editable": true
   },
   "source": [
    "# Другие рекурсивные алгоритмы"
   ]
  },
  {
   "cell_type": "markdown",
   "metadata": {
    "deletable": true,
    "editable": true
   },
   "source": [
    "## Высота дерева"
   ]
  },
  {
   "cell_type": "code",
   "execution_count": 34,
   "metadata": {
    "collapsed": true,
    "deletable": true,
    "editable": true
   },
   "outputs": [],
   "source": [
    "def height(node):\n",
    "    if node is None:\n",
    "        return -1\n",
    "    return 1 + max(height(node.left), height(node.right))"
   ]
  },
  {
   "cell_type": "code",
   "execution_count": 35,
   "metadata": {
    "collapsed": false,
    "deletable": true,
    "editable": true
   },
   "outputs": [
    {
     "name": "stdout",
     "output_type": "stream",
     "text": [
      "4\n"
     ]
    },
    {
     "data": {
      "text/plain": [
       "{'height': 4,\n",
       " 'is_bst': True,\n",
       " 'is_full': False,\n",
       " 'is_height_balanced': False,\n",
       " 'is_max_heap': False,\n",
       " 'is_min_heap': False,\n",
       " 'is_weight_balanced': False,\n",
       " 'leaf_count': 4,\n",
       " 'max_leaf_depth': 4,\n",
       " 'max_value': 30,\n",
       " 'min_leaf_depth': 2,\n",
       " 'min_value': 1,\n",
       " 'node_count': 10}"
      ]
     },
     "execution_count": 35,
     "metadata": {},
     "output_type": "execute_result"
    }
   ],
   "source": [
    "print(height(T))\n",
    "inspect(T)"
   ]
  }
 ],
 "metadata": {
  "kernelspec": {
   "display_name": "Python 3",
   "language": "python",
   "name": "python3"
  },
  "language_info": {
   "codemirror_mode": {
    "name": "ipython",
    "version": 3
   },
   "file_extension": ".py",
   "mimetype": "text/x-python",
   "name": "python",
   "nbconvert_exporter": "python",
   "pygments_lexer": "ipython3",
   "version": "3.5.2"
  }
 },
 "nbformat": 4,
 "nbformat_minor": 2
}
