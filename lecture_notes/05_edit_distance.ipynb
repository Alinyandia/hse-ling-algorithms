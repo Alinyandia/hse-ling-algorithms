{
 "cells": [
  {
   "cell_type": "code",
   "execution_count": 13,
   "metadata": {},
   "outputs": [],
   "source": [
    "def edit_distance_top_down(s1, s2):\n",
    "    n, m = len(s1), len(s2)\n",
    "\n",
    "    # Словарь для запоминаний значений D(i, j)\n",
    "    # (мемоизация)\n",
    "    M = {}\n",
    "\n",
    "    def D(i, j):\n",
    "\n",
    "        # Сначала проверяем по словарю,\n",
    "        # не вычисляли ли мы функцию для этих (i, j) раньше.\n",
    "        d = M.get((i, j))\n",
    "        if d is not None:\n",
    "            return d\n",
    "\n",
    "        if i == 0:\n",
    "            d = j\n",
    "        elif j == 0:\n",
    "            d = i\n",
    "        else:\n",
    "            d = min(\n",
    "                D(i - 1, j) + 1,\n",
    "                D(i, j - 1) + 1,\n",
    "                D(i - 1, j - 1) + (1 if s1[i - 1] != s2[j - 1] else 0)\n",
    "            )\n",
    "\n",
    "        # Сохраняем вычисленное значение.\n",
    "        M[(i, j)] = d\n",
    "\n",
    "        return d\n",
    "\n",
    "    return D(n, m)"
   ]
  },
  {
   "cell_type": "code",
   "execution_count": 14,
   "metadata": {},
   "outputs": [
    {
     "data": {
      "text/plain": [
       "5"
      ]
     },
     "execution_count": 14,
     "metadata": {},
     "output_type": "execute_result"
    }
   ],
   "source": [
    "edit_distance_top_down('vintner', 'writers')"
   ]
  },
  {
   "cell_type": "code",
   "execution_count": 19,
   "metadata": {},
   "outputs": [],
   "source": [
    "def edit_distance_bottom_up(s1, s2):\n",
    "    n, m = len(s1), len(s2)\n",
    "\n",
    "    M = [\n",
    "        [-1 for _ in range(m + 1)]\n",
    "        for _ in range(n + 1)\n",
    "    ]\n",
    "\n",
    "    # ----------------------\n",
    "    # Граничные условия\n",
    "\n",
    "    for i in range(m + 1):\n",
    "        M[0][i] = i\n",
    "\n",
    "    for i in range(n + 1):\n",
    "        M[i][0] = i\n",
    "\n",
    "    # ----------------------\n",
    "\n",
    "    for i in range(1, n + 1):\n",
    "        for j in range(1, m + 1):\n",
    "            M[i][j] = min(\n",
    "                M[i - 1][j] + 1,\n",
    "                M[i][j - 1] + 1,\n",
    "                M[i - 1][j - 1] + (1 if s1[i - 1] != s2[j - 1] else 0)\n",
    "            )\n",
    "\n",
    "    return M[n][m]"
   ]
  },
  {
   "cell_type": "code",
   "execution_count": 20,
   "metadata": {},
   "outputs": [
    {
     "data": {
      "text/plain": [
       "8"
      ]
     },
     "execution_count": 20,
     "metadata": {},
     "output_type": "execute_result"
    }
   ],
   "source": [
    "edit_distance_bottom_up('широкая электрификация', 'электрификация')"
   ]
  }
 ],
 "metadata": {
  "kernelspec": {
   "display_name": "Python 3",
   "language": "python",
   "name": "python3"
  },
  "language_info": {
   "codemirror_mode": {
    "name": "ipython",
    "version": 3
   },
   "file_extension": ".py",
   "mimetype": "text/x-python",
   "name": "python",
   "nbconvert_exporter": "python",
   "pygments_lexer": "ipython3",
   "version": "3.6.5"
  }
 },
 "nbformat": 4,
 "nbformat_minor": 2
}
